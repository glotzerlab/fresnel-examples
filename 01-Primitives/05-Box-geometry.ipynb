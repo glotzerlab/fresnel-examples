{
 "cells": [
  {
   "cell_type": "markdown",
   "metadata": {},
   "source": [
    "# Box"
   ]
  },
  {
   "cell_type": "code",
   "execution_count": null,
   "metadata": {},
   "outputs": [],
   "source": [
    "import sys \n",
    "sys.path.insert(0,'/Users/mike/Projects/fresnel/build')\n",
    "import fresnel\n",
    "scene = fresnel.Scene()"
   ]
  },
  {
   "cell_type": "markdown",
   "metadata": {},
   "source": [
    "The Box geometry is a convenience class that uses cylinder geometry to draw a box. The Box geometry supports triclinic boxes and follows [hoomd-blue](https://hoomd-blue.readthedocs.io/en/stable/box.html) box conventions. For square boxes, only one length is needed."
   ]
  },
  {
   "cell_type": "code",
   "execution_count": null,
   "metadata": {},
   "outputs": [],
   "source": [
    "my_box = [5]"
   ]
  },
  {
   "cell_type": "code",
   "execution_count": null,
   "metadata": {},
   "outputs": [],
   "source": [
    "scene = fresnel.Scene()\n",
    "geometry = fresnel.geometry.Box(scene, my_box)"
   ]
  },
  {
   "cell_type": "code",
   "execution_count": null,
   "metadata": {},
   "outputs": [],
   "source": [
    "fresnel.preview(scene, aa_level=3)"
   ]
  },
  {
   "cell_type": "markdown",
   "metadata": {},
   "source": [
    "Rectangular boxes require an Lx, Ly, and Lz"
   ]
  },
  {
   "cell_type": "code",
   "execution_count": null,
   "metadata": {},
   "outputs": [],
   "source": [
    "my_box = [5,6,7]\n",
    "scene = fresnel.Scene()\n",
    "geometry = fresnel.geometry.Box(scene, my_box)\n",
    "fresnel.preview(scene, aa_level=3)"
   ]
  },
  {
   "cell_type": "markdown",
   "metadata": {},
   "source": [
    "Triclinic boxes are supported by using 6 terms, Lx, Ly, Lz, xy, xz, yz. "
   ]
  },
  {
   "cell_type": "code",
   "execution_count": null,
   "metadata": {},
   "outputs": [],
   "source": [
    "my_box = [5,6,7, .2, 0, .9]\n",
    "scene = fresnel.Scene()\n",
    "geometry = fresnel.geometry.Box(scene, my_box)\n",
    "fresnel.preview(scene, aa_level=3)"
   ]
  },
  {
   "cell_type": "markdown",
   "metadata": {},
   "source": [
    "The radius defaults to `0.5` but can be specifed when the box is created"
   ]
  },
  {
   "cell_type": "code",
   "execution_count": null,
   "metadata": {},
   "outputs": [],
   "source": [
    "my_box = [5,6,7, .2, 0, .9]\n",
    "scene = fresnel.Scene()\n",
    "fresnel.geometry.Box(scene, my_box)\n",
    "thin_box = fresnel.geometry.Box(scene, [10], radius=.1)\n",
    "fresnel.preview(scene, aa_level=3)"
   ]
  },
  {
   "cell_type": "markdown",
   "metadata": {},
   "source": [
    "Or changed later"
   ]
  },
  {
   "cell_type": "code",
   "execution_count": null,
   "metadata": {},
   "outputs": [],
   "source": [
    "thin_box.radius[:] = 1\n",
    "fresnel.preview(scene, aa_level=3)"
   ]
  },
  {
   "cell_type": "code",
   "execution_count": null,
   "metadata": {},
   "outputs": [],
   "source": []
  },
  {
   "cell_type": "code",
   "execution_count": null,
   "metadata": {},
   "outputs": [],
   "source": [
    "my_box = [5,6,7, .2, 0, .9]\n",
    "scene = fresnel.Scene()\n",
    "thic_box = fresnel.geometry.Box(scene, my_box)\n",
    "thic_box.material.primitive_color_mix = 1.0\n",
    "thic_box.color[:] = [214/255, 67/255, 9/255]\n",
    "thin_box = fresnel.geometry.Box(scene, [10], radius=.1)\n",
    "thin_box.material.primitive_color_mix = 1.0\n",
    "thin_box.color[:] = [0, 51/255, 160/255]\n",
    "fresnel.preview(scene, aa_level=3)"
   ]
  },
  {
   "cell_type": "code",
   "execution_count": null,
   "metadata": {},
   "outputs": [],
   "source": []
  }
 ],
 "metadata": {
  "kernelspec": {
   "display_name": "Python 3",
   "language": "python",
   "name": "python3"
  },
  "language_info": {
   "codemirror_mode": {
    "name": "ipython",
    "version": 3
   },
   "file_extension": ".py",
   "mimetype": "text/x-python",
   "name": "python",
   "nbconvert_exporter": "python",
   "pygments_lexer": "ipython3",
   "version": "3.7.4"
  }
 },
 "nbformat": 4,
 "nbformat_minor": 4
}
