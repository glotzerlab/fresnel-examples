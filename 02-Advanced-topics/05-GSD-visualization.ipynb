{
 "cells": [
  {
   "cell_type": "code",
   "execution_count": null,
   "metadata": {},
   "outputs": [],
   "source": [
    "import sys \n",
    "sys.path.insert(0,'/Users/mike/Projects/fresnel/build')\n",
    "# !pip install freud-analysis gsd\n",
    "import freud\n",
    "import fresnel\n",
    "import gsd.hoomd\n",
    "import numpy as np"
   ]
  },
  {
   "cell_type": "code",
   "execution_count": null,
   "metadata": {},
   "outputs": [],
   "source": [
    "with gsd.hoomd.open(name=\"restart.gsd\", mode=\"rb\") as gsd_file:\n",
    "    snap = gsd_file[0]"
   ]
  },
  {
   "cell_type": "code",
   "execution_count": null,
   "metadata": {},
   "outputs": [],
   "source": [
    "box = freud.box.Box.from_box(snap.configuration.box)\n",
    "images = snap.particles.image\n",
    "\n",
    "unwraped_cords = box.unwrap(snap.particles.position, images)\n",
    "N = snap.particles.N"
   ]
  },
  {
   "cell_type": "code",
   "execution_count": null,
   "metadata": {},
   "outputs": [],
   "source": [
    "particle_types = snap.particles.typeid\n",
    "colors = np.empty((N, 3))\n",
    "# Color by typeid\n",
    "colors[particle_types == 0] = [1, 0, 0]\n",
    "colors[particle_types == 1] = [0, 1, 0]\n",
    "colors[particle_types == 2] = [0, 0, 1]"
   ]
  },
  {
   "cell_type": "code",
   "execution_count": null,
   "metadata": {},
   "outputs": [],
   "source": [
    "scene = fresnel.Scene()\n",
    "geometry = fresnel.geometry.Sphere(scene, N=N, radius=0.2)\n",
    "geometry.position[:] = snap.particles.position  # unwraped_cords\n",
    "geometry.material = fresnel.material.Material(\n",
    "    color=fresnel.color.linear([0.25, 0.5, 0.9]), roughness=0.8\n",
    ")\n",
    "geometry.material.primitive_color_mix = 1.0\n",
    "geometry.color[:] = fresnel.color.linear(colors)\n",
    "# box\n",
    "fresnel.geometry.Box(scene, box.to_tuple())"
   ]
  },
  {
   "cell_type": "code",
   "execution_count": null,
   "metadata": {},
   "outputs": [],
   "source": [
    "N_bonds = snap.bonds.group.shape[0]\n",
    "bonds = fresnel.geometry.Cylinder(scene, N=N_bonds)\n",
    "bonds.material = fresnel.material.Material(\n",
    "    color=fresnel.color.linear([0.5, 0.5, 0]), roughness=0.8\n",
    ")\n",
    "bonds.material.primitive_color_mix = 1.0\n",
    "bonds.points[:] = np.stack(\n",
    "    [\n",
    "        snap.particles.position[snap.bonds.group[:, 0]],\n",
    "        snap.particles.position[snap.bonds.group[:, 1]],\n",
    "    ],\n",
    "    axis=1,\n",
    ")\n",
    "# Color by bond typeid\n",
    "bond_ids = snap.bonds.typeid\n",
    "bond_colors = np.empty((N_bonds, 3))\n",
    "bond_colors[bond_ids == 0] = [0, 1, 0]\n",
    "bond_colors[bond_ids == 1] = [0, 0, 1]\n",
    "\n",
    "bonds.color[:] = np.stack(\n",
    "    [fresnel.color.linear(bond_colors), fresnel.color.linear(bond_colors)], axis=1\n",
    ")\n",
    "bonds.radius[:] = [0.1] * N_bonds\n",
    "\n",
    "\n",
    "fresnel.preview(scene, aa_level=3)"
   ]
  }
 ],
 "metadata": {
  "kernelspec": {
   "display_name": "Python 3",
   "language": "python",
   "name": "python3"
  },
  "language_info": {
   "codemirror_mode": {
    "name": "ipython",
    "version": 3
   },
   "file_extension": ".py",
   "mimetype": "text/x-python",
   "name": "python",
   "nbconvert_exporter": "python",
   "pygments_lexer": "ipython3",
   "version": "3.7.4"
  }
 },
 "nbformat": 4,
 "nbformat_minor": 4
}
