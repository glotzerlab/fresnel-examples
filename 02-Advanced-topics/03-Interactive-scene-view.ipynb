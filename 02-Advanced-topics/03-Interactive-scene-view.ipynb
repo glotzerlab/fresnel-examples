{
 "cells": [
  {
   "cell_type": "code",
   "execution_count": 1,
   "metadata": {},
   "outputs": [],
   "source": [
    "import fresnel\n",
    "import math"
   ]
  },
  {
   "cell_type": "markdown",
   "metadata": {},
   "source": [
    "# Interactive scene view\n",
    "\n",
    "**fresnel** provides a Qt widget to interactively display scenes rendered with the **path tracer**. This is implemented with the [PySide2](https://wiki.qt.io/PySide2) library. Using jupyter support for this library, you can open an interactive window outside if the browser and interact with it from the jupyter notebook.\n",
    "\n",
    "First, initialize jupyter's pyside2 integration."
   ]
  },
  {
   "cell_type": "code",
   "execution_count": 2,
   "metadata": {},
   "outputs": [],
   "source": [
    "from PySide2 import QtCore\n",
    "%gui qt"
   ]
  },
  {
   "cell_type": "markdown",
   "metadata": {},
   "source": [
    "Then, import `fresnel.interact`. This **must** be done after `%gui qt`."
   ]
  },
  {
   "cell_type": "code",
   "execution_count": null,
   "metadata": {},
   "outputs": [],
   "source": [
    "import fresnel.interact"
   ]
  },
  {
   "cell_type": "markdown",
   "metadata": {},
   "source": [
    "Build a scene"
   ]
  },
  {
   "cell_type": "code",
   "execution_count": null,
   "metadata": {},
   "outputs": [],
   "source": [
    "position = []\n",
    "for k in range(5):\n",
    "    for i in range(5):\n",
    "        for j in range(5):\n",
    "            position.append([2*i, 2*j, 2*k])\n",
    "scene = fresnel.Scene()\n",
    "scene.lights[1].theta = math.pi\n",
    "\n",
    "geometry = fresnel.geometry.Sphere(scene, position = position, radius=1.0)\n",
    "geometry.material = fresnel.material.Material(color=fresnel.color.linear([0.1,0.1,0.8]),\n",
    "                                              roughness=0.1,\n",
    "                                              specular=1.0)\n",
    "scene.camera = fresnel.camera.Orthographic.fit(scene)"
   ]
  },
  {
   "cell_type": "markdown",
   "metadata": {},
   "source": [
    "## SceneView widget\n",
    "\n",
    "Create a `interact.SceneView` widget to visualize the scene."
   ]
  },
  {
   "cell_type": "code",
   "execution_count": null,
   "metadata": {},
   "outputs": [],
   "source": [
    "view = fresnel.interact.SceneView(scene)"
   ]
  },
  {
   "cell_type": "markdown",
   "metadata": {},
   "source": [
    "When the SceneView is the result of a cell, the windows shows and gets focus. In JupyterLab environments, you may need to use `view.show()`"
   ]
  },
  {
   "cell_type": "code",
   "execution_count": null,
   "metadata": {},
   "outputs": [],
   "source": [
    "view\n",
    "\n",
    "# use view.show() if in JupyterLab"
   ]
  },
  {
   "cell_type": "markdown",
   "metadata": {},
   "source": [
    "In the new window, you can click and drag to rotate the camera. Jupyter is still running so you can query changes to the window here. For example, after rotating the camera, inspect the new camera configuration:"
   ]
  },
  {
   "cell_type": "code",
   "execution_count": null,
   "metadata": {},
   "outputs": [],
   "source": [
    "repr(scene.camera)"
   ]
  },
  {
   "cell_type": "markdown",
   "metadata": {},
   "source": [
    "After you change scene properties, call `setScene` to re-render the scene with the changes. For example: change the material color."
   ]
  },
  {
   "cell_type": "code",
   "execution_count": null,
   "metadata": {},
   "outputs": [],
   "source": [
    "geometry.material.color = fresnel.color.linear([0.8,0.1,0.1])\n",
    "view.setScene(scene)"
   ]
  },
  {
   "cell_type": "markdown",
   "metadata": {},
   "source": [
    "This page was generated from a [jupyter](https://jupyter.org/) notebook. You can download and run the notebook locally from the [fresnel-examples](https://github.com/glotzerlab/fresnel-examples) repository."
   ]
  }
 ],
 "metadata": {
  "kernelspec": {
   "display_name": "Python 3",
   "language": "python",
   "name": "python3"
  },
  "language_info": {
   "codemirror_mode": {
    "name": "ipython",
    "version": 3
   },
   "file_extension": ".py",
   "mimetype": "text/x-python",
   "name": "python",
   "nbconvert_exporter": "python",
   "pygments_lexer": "ipython3",
   "version": "3.8.6"
  }
 },
 "nbformat": 4,
 "nbformat_minor": 4
}
